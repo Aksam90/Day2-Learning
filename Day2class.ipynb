{
 "cells": [
  {
   "cell_type": "code",
   "execution_count": 1,
   "id": "0b991639",
   "metadata": {},
   "outputs": [
    {
     "data": {
      "text/plain": [
       "str"
      ]
     },
     "execution_count": 1,
     "metadata": {},
     "output_type": "execute_result"
    }
   ],
   "source": [
    "x = \"what's your age\"\n",
    "type(x)"
   ]
  },
  {
   "cell_type": "code",
   "execution_count": 2,
   "id": "e08eb7d1",
   "metadata": {},
   "outputs": [
    {
     "data": {
      "text/plain": [
       "str"
      ]
     },
     "execution_count": 2,
     "metadata": {},
     "output_type": "execute_result"
    }
   ],
   "source": [
    "x = \"45\"\n",
    "type(x)\n"
   ]
  },
  {
   "cell_type": "code",
   "execution_count": 3,
   "id": "6c391111",
   "metadata": {},
   "outputs": [
    {
     "data": {
      "text/plain": [
       "int"
      ]
     },
     "execution_count": 3,
     "metadata": {},
     "output_type": "execute_result"
    }
   ],
   "source": [
    "x = 45\n",
    "type(x)\n"
   ]
  },
  {
   "cell_type": "markdown",
   "id": "a2be530b",
   "metadata": {},
   "source": [
    "Python's Basic Operations"
   ]
  },
  {
   "cell_type": "code",
   "execution_count": 4,
   "id": "416cea6d",
   "metadata": {},
   "outputs": [],
   "source": [
    "x=2\n",
    "y=6"
   ]
  },
  {
   "cell_type": "markdown",
   "id": "ab438c9e",
   "metadata": {},
   "source": [
    "Addition"
   ]
  },
  {
   "cell_type": "code",
   "execution_count": 5,
   "id": "243e88ea",
   "metadata": {},
   "outputs": [
    {
     "name": "stdout",
     "output_type": "stream",
     "text": [
      "the result is 8\n"
     ]
    }
   ],
   "source": [
    "x+y\n",
    "print(\"the result is\",x+y)   #the result is 8"
   ]
  },
  {
   "cell_type": "markdown",
   "id": "cc6567ac",
   "metadata": {},
   "source": [
    "Subtraction"
   ]
  },
  {
   "cell_type": "code",
   "execution_count": 6,
   "id": "fd32181f",
   "metadata": {},
   "outputs": [
    {
     "name": "stdout",
     "output_type": "stream",
     "text": [
      "the result is -4\n"
     ]
    }
   ],
   "source": [
    "x-y\n",
    "print(\"the result is\",x-y)   #the result is -4"
   ]
  },
  {
   "cell_type": "markdown",
   "id": "ba3a931b",
   "metadata": {},
   "source": [
    "Multiplication"
   ]
  },
  {
   "cell_type": "code",
   "execution_count": 10,
   "id": "372136a9",
   "metadata": {},
   "outputs": [
    {
     "name": "stdout",
     "output_type": "stream",
     "text": [
      "the result is 12\n"
     ]
    }
   ],
   "source": [
    "x*y\n",
    "print(\"the result is\",x*y)   #the result is 12"
   ]
  },
  {
   "cell_type": "markdown",
   "id": "134f5fd6",
   "metadata": {},
   "source": [
    "Division"
   ]
  },
  {
   "cell_type": "code",
   "execution_count": 11,
   "id": "44f1f1ce",
   "metadata": {},
   "outputs": [
    {
     "name": "stdout",
     "output_type": "stream",
     "text": [
      "the result is 3.0\n"
     ]
    }
   ],
   "source": [
    "y/x\n",
    "print(\"the result is\", y/x)    #the result is 3.0"
   ]
  },
  {
   "cell_type": "markdown",
   "id": "027067f7",
   "metadata": {},
   "source": [
    "Power"
   ]
  },
  {
   "cell_type": "code",
   "execution_count": 12,
   "id": "b27cfb9c",
   "metadata": {},
   "outputs": [
    {
     "name": "stdout",
     "output_type": "stream",
     "text": [
      "the result is 36\n"
     ]
    }
   ],
   "source": [
    "y**x\n",
    "print(\"the result is\", y**x)    #the result is 36"
   ]
  },
  {
   "cell_type": "markdown",
   "id": "98b4a21f",
   "metadata": {},
   "source": [
    "Modulo"
   ]
  },
  {
   "cell_type": "code",
   "execution_count": 13,
   "id": "a3d93145",
   "metadata": {},
   "outputs": [
    {
     "name": "stdout",
     "output_type": "stream",
     "text": [
      "the result is 0\n"
     ]
    }
   ],
   "source": [
    "y%x\n",
    "print(\"the result is\", y%x)   #the result is 0"
   ]
  },
  {
   "cell_type": "markdown",
   "id": "26d66cd2",
   "metadata": {},
   "source": [
    "Exercise"
   ]
  },
  {
   "cell_type": "code",
   "execution_count": 14,
   "id": "ba784201",
   "metadata": {},
   "outputs": [],
   "source": [
    "x=19\n",
    "y=10"
   ]
  },
  {
   "cell_type": "code",
   "execution_count": 15,
   "id": "e6f5bb75",
   "metadata": {},
   "outputs": [
    {
     "name": "stdout",
     "output_type": "stream",
     "text": [
      "3.0\n"
     ]
    }
   ],
   "source": [
    "print(x%y*3/(x-y))"
   ]
  },
  {
   "cell_type": "code",
   "execution_count": 26,
   "id": "1c2ca046",
   "metadata": {},
   "outputs": [],
   "source": [
    "Ch = \"HelloWorld\""
   ]
  },
  {
   "cell_type": "code",
   "execution_count": 27,
   "id": "c7b16cc5",
   "metadata": {},
   "outputs": [
    {
     "data": {
      "text/plain": [
       "10"
      ]
     },
     "execution_count": 27,
     "metadata": {},
     "output_type": "execute_result"
    }
   ],
   "source": [
    "len(Ch)"
   ]
  },
  {
   "cell_type": "code",
   "execution_count": 28,
   "id": "b88e5ad4",
   "metadata": {},
   "outputs": [
    {
     "data": {
      "text/plain": [
       "'H'"
      ]
     },
     "execution_count": 28,
     "metadata": {},
     "output_type": "execute_result"
    }
   ],
   "source": [
    "Ch[0]"
   ]
  },
  {
   "cell_type": "code",
   "execution_count": 29,
   "id": "cf55d403",
   "metadata": {},
   "outputs": [],
   "source": [
    "Ch = Ch+\"World\""
   ]
  },
  {
   "cell_type": "code",
   "execution_count": 30,
   "id": "7c3bdfc5",
   "metadata": {},
   "outputs": [
    {
     "name": "stdout",
     "output_type": "stream",
     "text": [
      "HelloWorldWorld\n"
     ]
    }
   ],
   "source": [
    "print(Ch)"
   ]
  },
  {
   "cell_type": "code",
   "execution_count": 4,
   "id": "623d3915",
   "metadata": {},
   "outputs": [
    {
     "data": {
      "text/plain": [
       "True"
      ]
     },
     "execution_count": 4,
     "metadata": {},
     "output_type": "execute_result"
    }
   ],
   "source": [
    "1!=5 #it returns True"
   ]
  },
  {
   "cell_type": "code",
   "execution_count": 5,
   "id": "f35bc5a1",
   "metadata": {},
   "outputs": [
    {
     "data": {
      "text/plain": [
       "False"
      ]
     },
     "execution_count": 5,
     "metadata": {},
     "output_type": "execute_result"
    }
   ],
   "source": [
    "1!=1   #it returns False"
   ]
  },
  {
   "cell_type": "code",
   "execution_count": 7,
   "id": "9683644d",
   "metadata": {},
   "outputs": [
    {
     "data": {
      "text/plain": [
       "True"
      ]
     },
     "execution_count": 7,
     "metadata": {},
     "output_type": "execute_result"
    }
   ],
   "source": [
    "(3!=4)==(5>3)"
   ]
  },
  {
   "cell_type": "code",
   "execution_count": 8,
   "id": "52ce5310",
   "metadata": {},
   "outputs": [
    {
     "data": {
      "text/plain": [
       "False"
      ]
     },
     "execution_count": 8,
     "metadata": {},
     "output_type": "execute_result"
    }
   ],
   "source": [
    "(\"if taiwo is a babe\")==(\"babe is taiwo\")"
   ]
  },
  {
   "cell_type": "code",
   "execution_count": 22,
   "id": "a9d7edab",
   "metadata": {},
   "outputs": [
    {
     "data": {
      "text/plain": [
       "True"
      ]
     },
     "execution_count": 22,
     "metadata": {},
     "output_type": "execute_result"
    }
   ],
   "source": [
    "(1!=1)==(4>5)"
   ]
  },
  {
   "cell_type": "markdown",
   "id": "bd70337c",
   "metadata": {},
   "source": [
    "If statement"
   ]
  },
  {
   "cell_type": "code",
   "execution_count": 28,
   "id": "f8df6ffb",
   "metadata": {},
   "outputs": [
    {
     "name": "stdout",
     "output_type": "stream",
     "text": [
      "The passenger has survived Titanic incident\n",
      "33\n"
     ]
    }
   ],
   "source": [
    "age=33\n",
    "age_min = 20\n",
    "if age > age_min :\n",
    "    print(\"The passenger has survived Titanic incident\")\n",
    "print(age)"
   ]
  },
  {
   "cell_type": "code",
   "execution_count": 29,
   "id": "ac1df933",
   "metadata": {},
   "outputs": [
    {
     "name": "stdout",
     "output_type": "stream",
     "text": [
      "The passenger has survived Titanic incident\n",
      "Samuel\n"
     ]
    }
   ],
   "source": [
    "age=25\n",
    "age_min = 30\n",
    "name=\"Samuel\"\n",
    "if age < age_min :\n",
    "    print(\"The passenger has survived Titanic incident\")\n",
    "print(name)"
   ]
  },
  {
   "cell_type": "code",
   "execution_count": 31,
   "id": "29504c94",
   "metadata": {},
   "outputs": [
    {
     "name": "stdout",
     "output_type": "stream",
     "text": [
      "5\n"
     ]
    }
   ],
   "source": [
    "x=5\n",
    "if x<8:\n",
    "    print(x)\n",
    "    "
   ]
  },
  {
   "cell_type": "markdown",
   "id": "dbce7a3b",
   "metadata": {},
   "source": [
    "If/ Else Statement"
   ]
  },
  {
   "cell_type": "code",
   "execution_count": 33,
   "id": "4e73595c",
   "metadata": {},
   "outputs": [
    {
     "name": "stdout",
     "output_type": "stream",
     "text": [
      "The passenger had survived\n"
     ]
    }
   ],
   "source": [
    "Age= 40\n",
    "if Age > 20:\n",
    "    print(\"The passenger had survived\")\n",
    "elif Age == 10:\n",
    "    print(\"The passenger had equal chance to survive\")\n",
    "else:\n",
    "    print(\"We need more information to make a decision\")\n"
   ]
  },
  {
   "cell_type": "code",
   "execution_count": 34,
   "id": "3d9eff60",
   "metadata": {},
   "outputs": [
    {
     "name": "stdout",
     "output_type": "stream",
     "text": [
      "We need more information to make a decision\n"
     ]
    }
   ],
   "source": [
    "Age= 40\n",
    "if Age > 50:\n",
    "    print(\"The passenger had survived\")\n",
    "elif Age == 45:\n",
    "    print(\"The passenger had equal chance to survive\")\n",
    "else:\n",
    "    print(\"We need more information to make a decision\")"
   ]
  },
  {
   "cell_type": "code",
   "execution_count": 41,
   "id": "4d0d64cd",
   "metadata": {},
   "outputs": [
    {
     "name": "stdout",
     "output_type": "stream",
     "text": [
      "The passenger is happy\n"
     ]
    }
   ],
   "source": [
    "Age= 20\n",
    "if Age > 50:\n",
    "    print(\"The passenger had survived\")\n",
    "elif Age == 30:\n",
    "    print(\"The passenger had equal chance to survive\")\n",
    "elif Age!=30:\n",
    "    print(\"The passenger is happy\")\n",
    "else:\n",
    "    print(\"We need more information to make a decision\")"
   ]
  },
  {
   "cell_type": "code",
   "execution_count": 42,
   "id": "497d4642",
   "metadata": {},
   "outputs": [
    {
     "name": "stdout",
     "output_type": "stream",
     "text": [
      "x is greater than 3!\n"
     ]
    }
   ],
   "source": [
    "x=5\n",
    "if x>3:\n",
    "    print(\"x is greater than 3!\")\n",
    "else:\n",
    "    print(\"x is lower than 3!\")"
   ]
  },
  {
   "cell_type": "code",
   "execution_count": null,
   "id": "0abf437e",
   "metadata": {},
   "outputs": [],
   "source": []
  }
 ],
 "metadata": {
  "kernelspec": {
   "display_name": "Python 3",
   "language": "python",
   "name": "python3"
  },
  "language_info": {
   "codemirror_mode": {
    "name": "ipython",
    "version": 3
   },
   "file_extension": ".py",
   "mimetype": "text/x-python",
   "name": "python",
   "nbconvert_exporter": "python",
   "pygments_lexer": "ipython3",
   "version": "3.8.8"
  }
 },
 "nbformat": 4,
 "nbformat_minor": 5
}
